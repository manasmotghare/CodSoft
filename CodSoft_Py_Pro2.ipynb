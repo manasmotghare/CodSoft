{
  "nbformat": 4,
  "nbformat_minor": 0,
  "metadata": {
    "colab": {
      "provenance": []
    },
    "kernelspec": {
      "name": "python3",
      "display_name": "Python 3"
    },
    "language_info": {
      "name": "python"
    }
  },
  "cells": [
    {
      "cell_type": "markdown",
      "source": [
        "***Task-2 Calculator***\n",
        "***- Manas Motghare***"
      ],
      "metadata": {
        "id": "DLayPCoKQbSz"
      }
    },
    {
      "cell_type": "code",
      "source": [
        "# Function to perform addition\n",
        "def addition(x,y):\n",
        "    return x+y"
      ],
      "metadata": {
        "id": "PMKw_UfRQ-IC"
      },
      "execution_count": null,
      "outputs": []
    },
    {
      "cell_type": "code",
      "source": [
        "# Function to perform subtraction\n",
        "def subtraction(x,y):\n",
        "    return x-y"
      ],
      "metadata": {
        "id": "RtHuSBilRI0q"
      },
      "execution_count": null,
      "outputs": []
    },
    {
      "cell_type": "code",
      "source": [
        "# Function to perform multiplication\n",
        "def multiplication(x,y):\n",
        "    return x*y"
      ],
      "metadata": {
        "id": "5uwwIemPRK8p"
      },
      "execution_count": null,
      "outputs": []
    },
    {
      "cell_type": "code",
      "source": [
        "# Function to perform division\n",
        "def division(x,y):\n",
        "  if y == 0:\n",
        "    return \"Error: Division by zero\"\n",
        "  return x/y"
      ],
      "metadata": {
        "id": "W_0YsPSYRMUT"
      },
      "execution_count": null,
      "outputs": []
    },
    {
      "cell_type": "code",
      "source": [
        "# Main Function\n",
        "def calculator():\n",
        "  print(\"Welcome to Calculator\")\n",
        "\n",
        "# Getting the input from the user\n",
        "  num1 = float(input(\"Enter 1st Number : \"))\n",
        "  num2 = float(input(\"Enter 2nd Number : \"))\n",
        "\n",
        "#Asking the operation choice from the user\n",
        "  print(\"choose an operatoion :  \")\n",
        "  print(\"1. Addition\")\n",
        "  print(\"2. Subtraction\")\n",
        "  print(\"3. Multiplication\")\n",
        "  print(\"4. Division\")\n",
        "\n",
        "  choice = input(\"Enter choice (1/2/3/4) : \")\n",
        "\n",
        "# Perform the choose operation\n",
        "  if choice == '1':\n",
        "    result = addition(num1, num2)\n",
        "    operation = \"+\"\n",
        "\n",
        "  elif choice == '2':\n",
        "    result = subtraction(num1, num2)\n",
        "    operation = \"-\"\n",
        "  elif choice == '3':\n",
        "    result = multiplication(num1, num2)\n",
        "    operation = \"*\"\n",
        "\n",
        "  elif choice == '4':\n",
        "    result = division(num1, num2)\n",
        "    operation = \"/\"\n",
        "\n",
        "  else:\n",
        "    print(\"Invalid Choice, Please restart the program and choose valid option.\\n\")\n",
        "    return\n",
        "\n",
        "#Output Display the result\n",
        "  print(f\"The result of {num1} {operation} {num2} is : {result}\")"
      ],
      "metadata": {
        "id": "nnBhdj8wU8gj"
      },
      "execution_count": null,
      "outputs": []
    },
    {
      "cell_type": "code",
      "source": [
        "calculator()"
      ],
      "metadata": {
        "colab": {
          "base_uri": "https://localhost:8080/"
        },
        "id": "e1zvsg0LUuQT",
        "outputId": "140cb80b-895f-4301-c223-a5949c1fcf80"
      },
      "execution_count": null,
      "outputs": [
        {
          "output_type": "stream",
          "name": "stdout",
          "text": [
            "Welcome to Calculator\n",
            "Enter 1st Number : 50\n",
            "Enter 2nd Number : 106\n",
            "choose an operatoion :  \n",
            "1. Addition\n",
            "2. Subtraction\n",
            "3. Multiplication\n",
            "4. Division\n",
            "Enter choice (1/2/3/4) : 1\n",
            "The result of 50.0 + 106.0 is : 156.0\n"
          ]
        }
      ]
    },
    {
      "cell_type": "code",
      "source": [],
      "metadata": {
        "id": "tSS_YStIVRE_"
      },
      "execution_count": null,
      "outputs": []
    }
  ]
}