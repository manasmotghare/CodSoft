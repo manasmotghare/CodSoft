{
  "nbformat": 4,
  "nbformat_minor": 0,
  "metadata": {
    "colab": {
      "provenance": []
    },
    "kernelspec": {
      "name": "python3",
      "display_name": "Python 3"
    },
    "language_info": {
      "name": "python"
    }
  },
  "cells": [
    {
      "cell_type": "markdown",
      "source": [
        "***TASK 3 PASSWORD GENERATOR***\n",
        "              ***- Manas Motghare***\n",
        "\n"
      ],
      "metadata": {
        "id": "7Tt_OKheZO39"
      }
    },
    {
      "cell_type": "code",
      "execution_count": 1,
      "metadata": {
        "id": "Y0lOI2yhZERc"
      },
      "outputs": [],
      "source": [
        "import random\n",
        "import string"
      ]
    },
    {
      "cell_type": "code",
      "source": [
        "# Function for generation a password\n",
        "def generate_password(length):\n",
        "\n",
        "    #Create characters to include in the passwords :  letters, digit, and punctuation (Special characters)\n",
        "    characters = string.ascii_letters + string.digits + string.punctuation\n",
        "\n",
        "    # Generate a password by randomly selecting char.\n",
        "    password = ''.join(random.choice(characters) for _ in range(length))\n",
        "\n",
        "    # Ensurance the password contains a least one specical char\n",
        "    if not any(char in string.punctuation for char in password):\n",
        "\n",
        "      # Add the ranom special char if missing\n",
        "      password = list(password)\n",
        "      password[random.randint(0, length - 1)] = random.choice(string.punctuation)\n",
        "      password = ''.join(password)\n",
        "\n",
        "    return password\n",
        ""
      ],
      "metadata": {
        "id": "7Aty4njEcJt1"
      },
      "execution_count": 8,
      "outputs": []
    },
    {
      "cell_type": "code",
      "source": [
        "# Main function\n",
        "def password_generator():\n",
        "  print(\"Welcome to the password generator! Please provide your password requirements.\")\n",
        "\n",
        "  # Getting the desired password length from the user\n",
        "  length = int(input(\"Enter the desired lenght of the password :  \"))\n",
        "\n",
        "  # Generate the password\n",
        "  password = generate_password(length)\n",
        "\n",
        "  # Display the generated password\n",
        "  print(\"Your Generated Password is : \", password)\n"
      ],
      "metadata": {
        "id": "j0mwCmiBaTca"
      },
      "execution_count": 9,
      "outputs": []
    },
    {
      "cell_type": "code",
      "source": [
        "password_generator()"
      ],
      "metadata": {
        "colab": {
          "base_uri": "https://localhost:8080/"
        },
        "id": "MF8I-zr-bdTQ",
        "outputId": "bb6f4523-ffd4-4942-99be-2a591ecd7d98"
      },
      "execution_count": 10,
      "outputs": [
        {
          "output_type": "stream",
          "name": "stdout",
          "text": [
            "Welcome to the password generator! Please provide your password requirements.\n",
            "Enter the desired lenght of the password :  10\n",
            "Your Generated Password is :  >:1\":pq.(.\n"
          ]
        }
      ]
    },
    {
      "cell_type": "code",
      "source": [],
      "metadata": {
        "id": "Cyx4vJQ-bg4H"
      },
      "execution_count": null,
      "outputs": []
    }
  ]
}