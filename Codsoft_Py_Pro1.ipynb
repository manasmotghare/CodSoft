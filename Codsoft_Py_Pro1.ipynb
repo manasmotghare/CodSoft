{
  "nbformat": 4,
  "nbformat_minor": 0,
  "metadata": {
    "colab": {
      "provenance": []
    },
    "kernelspec": {
      "name": "python3",
      "display_name": "Python 3"
    },
    "language_info": {
      "name": "python"
    }
  },
  "cells": [
    {
      "cell_type": "markdown",
      "source": [
        "***Task 1 To-Do List***\n",
        "***- Manas Motghare***"
      ],
      "metadata": {
        "id": "KFw_F49ryhLA"
      }
    },
    {
      "cell_type": "code",
      "execution_count": null,
      "metadata": {
        "id": "TjTLHfnNxzp9"
      },
      "outputs": [],
      "source": [
        "import os"
      ]
    },
    {
      "cell_type": "code",
      "source": [
        "# initialise an empty list which store tasks\n",
        "tasks = []"
      ],
      "metadata": {
        "id": "ufadHSzjyo58"
      },
      "execution_count": null,
      "outputs": []
    },
    {
      "cell_type": "code",
      "source": [
        "# create a function to store all tasks\n",
        "def show_tasks():\n",
        "  if not tasks:\n",
        "    print(\"No tasks found. \\n\")\n",
        "  else:\n",
        "    print(\"Tasks:\")\n",
        "    for i, task in enumerate(tasks, start=1):\n",
        "      status = \"✓\" if task[\"completed\"] else \"Incomplete tasks\"\n",
        "      print(f\"{i}. [{status}] {task['title']} - {status} - Due: {task['due_date']}\")\n",
        "    print()"
      ],
      "metadata": {
        "id": "zKSwW5Zuy0nQ"
      },
      "execution_count": null,
      "outputs": []
    },
    {
      "cell_type": "code",
      "source": [
        "# Function to add new task\n",
        "def add_task():\n",
        "  title = input(\"Enter task title: \\n\")\n",
        "  due_date = input(\"Enter due date (YYYY-MM-DD): \")\n",
        "  tasks.append({\"title\": title, \"due_date\": due_date, \"completed\": False})\n",
        "  print(\"Task added successfully! \\n\")"
      ],
      "metadata": {
        "id": "KUNGq1jozi1H"
      },
      "execution_count": null,
      "outputs": []
    },
    {
      "cell_type": "code",
      "source": [
        "#Function to edit an existing task\n",
        "def edit_task():\n",
        "  show_tasks()\n",
        "  task_number = int(input(\"Enter the task number to edit: \")) - 1\n",
        "\n",
        "  if 0 <= task_number < len(tasks):\n",
        "    task = tasks[task_number]\n",
        "    new_title = input(f\"Enter new title (current: {task['title']}): \")\n",
        "    new_due_date = input(f\"Enter new due date (current: {task['due_date']}): \")\n",
        "    task[\"title\"] = new_title if new_title else task[\"title\"]\n",
        "    task[\"due_date\"] = new_due_date if new_due_date else task[\"due_date\"]\n",
        "    print(\"Task edited successfully!\")\n",
        "  else:\n",
        "    print(\"Invalid task number.\\n\")"
      ],
      "metadata": {
        "id": "mS2JXBA_z6sF"
      },
      "execution_count": null,
      "outputs": []
    },
    {
      "cell_type": "code",
      "source": [
        "#Function to mark a task as completed\n",
        "def Complete_task():\n",
        "  show_tasks()\n",
        "  task_number = int(input(\"Enter the task number to mark as completed: \")) - 1\n",
        "\n",
        "  if 0 <= task_number < len(tasks):\n",
        "    tasks[task_number][\"completed\"] = True\n",
        "    print(\"Task marked as completed! \\n\")\n",
        "  else:\n",
        "    print(\"Invalid task number. \\n\")"
      ],
      "metadata": {
        "id": "W4ZWWuUR0rxn"
      },
      "execution_count": null,
      "outputs": []
    },
    {
      "cell_type": "code",
      "source": [
        "#Function to delete the tasks from To-Do list\n",
        "def delete_task():\n",
        "  show_tasks()\n",
        "  task_number = int(input(\"Enter the task number to delete: \")) - 1\n",
        "\n",
        "  if 0 <= task_number < len(tasks):\n",
        "    del tasks[task_number]\n",
        "    print(\"Task deleted successfully! \\n\")\n",
        "  else:\n",
        "    print(\"Invalid task number. \\n\")"
      ],
      "metadata": {
        "id": "vMP2XR0i04dq"
      },
      "execution_count": null,
      "outputs": []
    },
    {
      "cell_type": "code",
      "source": [
        "# Declaring Main Function to run To-Do List program\n",
        "def main():\n",
        "  while True:\n",
        "    print(\"To-Do List Menu:\")\n",
        "    print(\"1. Show Tasks\")\n",
        "    print(\"2. Add Task\")\n",
        "    print(\"3. Edit Task\")\n",
        "    print(\"4. Complete Task\")\n",
        "    print(\"5. Delete Task\")\n",
        "    print(\"6. Quit\")\n",
        "    option = input(\"Enter your choice (1-6): \")\n",
        "\n",
        "    if option == \"1\":\n",
        "      show_tasks()\n",
        "    elif option == \"2\":\n",
        "      add_task()\n",
        "    elif option == \"3\":\n",
        "      edit_task()\n",
        "    elif option == \"4\":\n",
        "      Complete_task()\n",
        "    elif option == \"5\":\n",
        "      delete_task\n",
        "    elif option == \"6\":\n",
        "      print(\"Goodbye!\")\n",
        "      break\n",
        "    else:\n",
        "      print(\"Invalid choice. Please try again. \\n\")"
      ],
      "metadata": {
        "id": "z-JETlNZ3Asb"
      },
      "execution_count": null,
      "outputs": []
    },
    {
      "cell_type": "code",
      "source": [
        "# Executing the program\n",
        "if __name__ == \"__main__\":\n",
        "  main()"
      ],
      "metadata": {
        "colab": {
          "base_uri": "https://localhost:8080/"
        },
        "id": "N3jvgEII3W1X",
        "outputId": "708f8f4c-56b8-4f71-e0c6-6b946cac6ffb"
      },
      "execution_count": null,
      "outputs": [
        {
          "output_type": "stream",
          "name": "stdout",
          "text": [
            "To-Do List Menu:\n",
            "1. Show Tasks\n",
            "2. Add Task\n",
            "3. Edit Task\n",
            "4. Complete Task\n",
            "5. Delete Task\n",
            "6. Quit\n",
            "Enter your choice (1-6): 2\n",
            "Enter task title: Travel to Korade temple\n",
            "Enter due date (YYYY-MM-DD): 2024-08-11\n",
            "Task added successfully!\n",
            "To-Do List Menu:\n",
            "1. Show Tasks\n",
            "2. Add Task\n",
            "3. Edit Task\n",
            "4. Complete Task\n",
            "5. Delete Task\n",
            "6. Quit\n",
            "Enter your choice (1-6): 1\n",
            "Tasks:\n",
            "1. [✓] Travel - ✓ - Due: 2024-08-11\n",
            "2. [Incomplete tasks] Travel to Korade temple - Incomplete tasks - Due: 2024-08-11\n",
            "\n",
            "To-Do List Menu:\n",
            "1. Show Tasks\n",
            "2. Add Task\n",
            "3. Edit Task\n",
            "4. Complete Task\n",
            "5. Delete Task\n",
            "6. Quit\n",
            "Enter your choice (1-6): 4\n",
            "Tasks:\n",
            "1. [✓] Travel - ✓ - Due: 2024-08-11\n",
            "2. [Incomplete tasks] Travel to Korade temple - Incomplete tasks - Due: 2024-08-11\n",
            "\n",
            "Enter the task number to mark as completed: 2\n",
            "Task marked as completed!\n",
            "To-Do List Menu:\n",
            "1. Show Tasks\n",
            "2. Add Task\n",
            "3. Edit Task\n",
            "4. Complete Task\n",
            "5. Delete Task\n",
            "6. Quit\n",
            "Enter your choice (1-6): 1\n",
            "Tasks:\n",
            "1. [✓] Travel - ✓ - Due: 2024-08-11\n",
            "2. [✓] Travel to Korade temple - ✓ - Due: 2024-08-11\n",
            "\n",
            "To-Do List Menu:\n",
            "1. Show Tasks\n",
            "2. Add Task\n",
            "3. Edit Task\n",
            "4. Complete Task\n",
            "5. Delete Task\n",
            "6. Quit\n",
            "Enter your choice (1-6): 6\n",
            "Goodbye!\n"
          ]
        }
      ]
    },
    {
      "cell_type": "code",
      "source": [],
      "metadata": {
        "id": "b3ix1rbb3aOF"
      },
      "execution_count": null,
      "outputs": []
    }
  ]
}