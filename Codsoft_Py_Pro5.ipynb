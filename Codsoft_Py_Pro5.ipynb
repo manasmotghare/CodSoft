{
  "nbformat": 4,
  "nbformat_minor": 0,
  "metadata": {
    "colab": {
      "provenance": []
    },
    "kernelspec": {
      "name": "python3",
      "display_name": "Python 3"
    },
    "language_info": {
      "name": "python"
    }
  },
  "cells": [
    {
      "cell_type": "markdown",
      "source": [
        "***Task 5 - Contact Book***\n",
        "***- Manas Motghare***"
      ],
      "metadata": {
        "id": "nOUhm63DL5z4"
      }
    },
    {
      "cell_type": "code",
      "execution_count": 2,
      "metadata": {
        "id": "Uf-dlhumLs_Z"
      },
      "outputs": [],
      "source": [
        "#Simple Contact Management System\n",
        "\n",
        "# Function to display the menu\n",
        "def display_menu():\n",
        "  print(\"/nContact Management System\")\n",
        "  print(\"1. Add Contact\")\n",
        "  print(\"2. View Contacts\")\n",
        "  print(\"3. Search Contact\")\n",
        "  print(\"4. Update Contact\")\n",
        "  print(\"5. Delete Contact\")\n",
        "  print(\"6. Exit\")"
      ]
    },
    {
      "cell_type": "code",
      "source": [
        "#Function to add a new contact\n",
        "def add_contact(contacts):\n",
        "  name = input(\"Enter Contact Name : \")\n",
        "  phone = input(\"Enter Phone Number : \")\n",
        "  email = input(\"Enter Email Address : \")\n",
        "  address = input(\"Enter Address : \")\n",
        "\n",
        "  contacts[name] = {\n",
        "      'Phone' : phone,\n",
        "      'Email' : email,\n",
        "      'Address' : address\n",
        "      }\n",
        "  print(f\"Contact '{name}' added Successfully!!\")"
      ],
      "metadata": {
        "id": "f46uBYi4TC1K"
      },
      "execution_count": 6,
      "outputs": []
    },
    {
      "cell_type": "code",
      "source": [
        "# Function to view all contacts\n",
        "def view_contacts(contacts):\n",
        "    if not contacts:\n",
        "        print(\"No contacts found.\")\n",
        "    else:\n",
        "        print(\"\\nContact List:\")\n",
        "        for name, details in contacts.items():\n",
        "            print(f\"Name: {name}, Phone: {details['Phone']}\")"
      ],
      "metadata": {
        "id": "1Vs85deut-aU"
      },
      "execution_count": 16,
      "outputs": []
    },
    {
      "cell_type": "code",
      "source": [
        "\n",
        "#Function to search for a contact\n",
        "def search_contact(contacts):\n",
        "  search_term = input(\"Enter the Name or Phone number to search : \")\n",
        "  found = False\n",
        "  for name, details in contacts.items():\n",
        "    if search_term in name or search_term in details['Phone']:\n",
        "      print(f\"\\nContact Found : \")\n",
        "      print(f\"Name : {name}\")\n",
        "      print(f\"Phone : {details['Phone']}\")\n",
        "      print(f\"Email : {details['Email']}\")\n",
        "      print(f\"Address : {details['Address']}\")\n",
        "      found = True\n",
        "      break\n",
        "  if not found:\n",
        "    print(\"No Contact Found with these name or phone number !!\")"
      ],
      "metadata": {
        "id": "7D_K86rMn7XZ"
      },
      "execution_count": 15,
      "outputs": []
    },
    {
      "cell_type": "code",
      "source": [
        "#Function to update a contact\n",
        "def update_contact(contacts):\n",
        "  name = input(\"Enter the Name or Phone number to update : \")\n",
        "  if name in contacts:\n",
        "    print(\"Leave a field blank if you do not want to change it.\")\n",
        "    phone = input(\"Enter New Phone Number : \")\n",
        "    email = input(\"Enter New Email Address : \")\n",
        "    address = input(\"Enter New Address : \")\n",
        "\n",
        "    if phone:\n",
        "      contacts[name]['Phone'] = phone\n",
        "\n",
        "    if email:\n",
        "      contacts[name]['Email'] = email\n",
        "\n",
        "    if address:\n",
        "      contacts[name]['Address'] = address\n",
        "\n",
        "    print(f\"Contact '{name}' updated successfully...!!!\")\n",
        "\n",
        "  else:\n",
        "    print(\"No contact found with that name.\")"
      ],
      "metadata": {
        "id": "CGqZgy1qpZlw"
      },
      "execution_count": 9,
      "outputs": []
    },
    {
      "cell_type": "code",
      "source": [
        "#Function to delete a contact\n",
        "def delete_contact(contacts):\n",
        "  name = input(\"Enter the Name or Phone number to delete : \")\n",
        "  if name in contacts:\n",
        "    del contacts[name]\n",
        "    print(f\"Contact '{name}' deleted successfully...!!!\")\n",
        "  else:\n",
        "    print(\"No contact found with that name.\")"
      ],
      "metadata": {
        "id": "TtFtFSGDqjcy"
      },
      "execution_count": 10,
      "outputs": []
    },
    {
      "cell_type": "code",
      "source": [
        "#Main Function\n",
        "def contact_management_system():\n",
        "  contacts = {}\n",
        "  while True:\n",
        "    display_menu()\n",
        "    choice =input(\"Choose an option(1 to 6): \")\n",
        "\n",
        "    if choice == '1':\n",
        "        add_contact(contacts)\n",
        "\n",
        "    elif choice == '2':\n",
        "        view_contacts(contacts)\n",
        "\n",
        "    elif choice == '3':\n",
        "        search_contact(contacts)\n",
        "\n",
        "    elif choice == '4':\n",
        "        update_contact(contacts)\n",
        "\n",
        "    elif choice == '5':\n",
        "      delete_contact(contacts)\n",
        "\n",
        "    elif choice == '6':\n",
        "        print(\"Exiting Contact Management System.\")\n",
        "        break\n",
        "\n",
        "    else:\n",
        "      print(\"Invalid Choice, Please select Valid Option.\")"
      ],
      "metadata": {
        "id": "ab-vZXN8rrXg"
      },
      "execution_count": 17,
      "outputs": []
    },
    {
      "cell_type": "code",
      "source": [
        "contact_management_system()"
      ],
      "metadata": {
        "colab": {
          "base_uri": "https://localhost:8080/"
        },
        "id": "hGzMa6kRtSKx",
        "outputId": "5fa2c0d2-c806-4311-aeee-63daebb664a8"
      },
      "execution_count": 19,
      "outputs": [
        {
          "output_type": "stream",
          "name": "stdout",
          "text": [
            "Contact Management System\n",
            "1. Add Contact\n",
            "2. View Contacts\n",
            "3. Search Contact\n",
            "4. Update Contact\n",
            "5. Delete Contact\n",
            "6. Exit\n",
            "Choose an option(1 to 6): 1\n",
            "Enter Contact Name : Manas\n",
            "Enter Phone Number : 584251412\n",
            "Enter Email Address : mandf@gmail.conm\n",
            "Enter Address : nagpur\n",
            "Contact 'Manas' added Successfully!!\n",
            "Contact Management System\n",
            "1. Add Contact\n",
            "2. View Contacts\n",
            "3. Search Contact\n",
            "4. Update Contact\n",
            "5. Delete Contact\n",
            "6. Exit\n",
            "Choose an option(1 to 6): 1\n",
            "Enter Contact Name : yash\n",
            "Enter Phone Number : 52428\n",
            "Enter Email Address : klamdl;@jkafmad.cpm\n",
            "Enter Address : Mumbai\n",
            "Contact 'yash' added Successfully!!\n",
            "Contact Management System\n",
            "1. Add Contact\n",
            "2. View Contacts\n",
            "3. Search Contact\n",
            "4. Update Contact\n",
            "5. Delete Contact\n",
            "6. Exit\n",
            "Choose an option(1 to 6): 2\n",
            "\n",
            "Contact List:\n",
            "Name: Manas, Phone: 584251412\n",
            "Name: yash, Phone: 52428\n",
            "Contact Management System\n",
            "1. Add Contact\n",
            "2. View Contacts\n",
            "3. Search Contact\n",
            "4. Update Contact\n",
            "5. Delete Contact\n",
            "6. Exit\n",
            "Choose an option(1 to 6): 5\n",
            "Enter the Name or Phone number to delete : yash\n",
            "Contact 'yash' deleted successfully...!!!\n",
            "Contact Management System\n",
            "1. Add Contact\n",
            "2. View Contacts\n",
            "3. Search Contact\n",
            "4. Update Contact\n",
            "5. Delete Contact\n",
            "6. Exit\n",
            "Choose an option(1 to 6): 2\n",
            "\n",
            "Contact List:\n",
            "Name: Manas, Phone: 584251412\n",
            "Contact Management System\n",
            "1. Add Contact\n",
            "2. View Contacts\n",
            "3. Search Contact\n",
            "4. Update Contact\n",
            "5. Delete Contact\n",
            "6. Exit\n",
            "Choose an option(1 to 6): 6\n",
            "Exiting Contact Management System.\n"
          ]
        }
      ]
    }
  ]
}